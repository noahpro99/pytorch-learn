{
 "cells": [
  {
   "cell_type": "code",
   "execution_count": 2,
   "metadata": {},
   "outputs": [
    {
     "name": "stderr",
     "output_type": "stream",
     "text": [
      "/root/repos/pytorch-learn/.venv/lib/python3.10/site-packages/tqdm/auto.py:21: TqdmWarning: IProgress not found. Please update jupyter and ipywidgets. See https://ipywidgets.readthedocs.io/en/stable/user_install.html\n",
      "  from .autonotebook import tqdm as notebook_tqdm\n"
     ]
    }
   ],
   "source": [
    "import torch\n",
    "import numpy as np\n",
    "import matplotlib.pyplot as plt\n",
    "from torch import nn\n",
    "import sklearn\n",
    "import pandas as pd\n",
    "import json\n",
    "import nltk\n",
    "from tqdm.auto import tqdm\n",
    "import re"
   ]
  },
  {
   "cell_type": "code",
   "execution_count": 3,
   "metadata": {},
   "outputs": [
    {
     "name": "stderr",
     "output_type": "stream",
     "text": [
      "[nltk_data] Downloading package punkt to /root/nltk_data...\n",
      "[nltk_data]   Package punkt is already up-to-date!\n"
     ]
    },
    {
     "data": {
      "text/plain": [
       "True"
      ]
     },
     "execution_count": 3,
     "metadata": {},
     "output_type": "execute_result"
    }
   ],
   "source": [
    "nltk.download('punkt')"
   ]
  },
  {
   "cell_type": "code",
   "execution_count": 4,
   "metadata": {},
   "outputs": [],
   "source": [
    "device = \"cuda\" if torch.cuda.is_available() else \"cpu\""
   ]
  },
  {
   "cell_type": "code",
   "execution_count": 5,
   "metadata": {},
   "outputs": [
    {
     "name": "stdout",
     "output_type": "stream",
     "text": [
      "dict_keys(['id', 'text', 'title'])\n"
     ]
    }
   ],
   "source": [
    "with open(\"../data/wiki/00c2bfc7-57db-496e-9d5c-d62f8d8119e3.json\") as f:\n",
    "    data = json.load(f)\n",
    "    \n",
    "print(data[0].keys())"
   ]
  },
  {
   "cell_type": "code",
   "execution_count": 6,
   "metadata": {},
   "outputs": [
    {
     "name": "stderr",
     "output_type": "stream",
     "text": [
      "100%|██████████| 9982/9982 [00:17<00:00, 571.75it/s]\n"
     ]
    },
    {
     "data": {
      "text/plain": [
       "['Broadcasts',\n",
       " 'SDHB',\n",
       " 'Rickettsia',\n",
       " 'Comiccritique',\n",
       " 'Straume',\n",
       " 'ophthalmologist',\n",
       " 'Switzer',\n",
       " 'Martino',\n",
       " 'Emanual',\n",
       " 'Rizzi']"
      ]
     },
     "execution_count": 6,
     "metadata": {},
     "output_type": "execute_result"
    }
   ],
   "source": [
    "all_words = set()\n",
    "for x in tqdm(data):\n",
    "    reg_txt = re.sub(r'[^a-zA-Z\\s]', ' ', x['text'])\n",
    "    reg_txt = re.sub(r\"\\s+\", \" \", reg_txt)\n",
    "    reg_txt = reg_txt.strip()\n",
    "    x['text'] = nltk.tokenize.word_tokenize(reg_txt)\n",
    "    all_words.update(x['text'])\n",
    "\n",
    "list(all_words)[:10]"
   ]
  },
  {
   "cell_type": "code",
   "execution_count": 7,
   "metadata": {},
   "outputs": [
    {
     "data": {
      "text/plain": [
       "['M',\n",
       " 'was',\n",
       " 'a',\n",
       " 'state',\n",
       " 'trunkline',\n",
       " 'highway',\n",
       " 'in',\n",
       " 'the',\n",
       " 'US',\n",
       " 'state',\n",
       " 'of',\n",
       " 'Michigan',\n",
       " 'that',\n",
       " 'served',\n",
       " 'as',\n",
       " 'a',\n",
       " 'spur',\n",
       " 'route',\n",
       " 'to',\n",
       " 'the',\n",
       " 'Interlochen',\n",
       " 'Center',\n",
       " 'for',\n",
       " 'the',\n",
       " 'Arts',\n",
       " 'and',\n",
       " 'Interlochen',\n",
       " 'State',\n",
       " 'Park',\n",
       " 'It',\n",
       " 'started',\n",
       " 'south',\n",
       " 'of',\n",
       " 'the',\n",
       " 'park',\n",
       " 'and',\n",
       " 'ran',\n",
       " 'north',\n",
       " 'between',\n",
       " 'two',\n",
       " 'lakes',\n",
       " 'in',\n",
       " 'the',\n",
       " 'area',\n",
       " 'and',\n",
       " 'through',\n",
       " 'the',\n",
       " 'community',\n",
       " 'of',\n",
       " 'Interlochen',\n",
       " 'to',\n",
       " 'US',\n",
       " 'Highway',\n",
       " 'US',\n",
       " 'in',\n",
       " 'Grand',\n",
       " 'Traverse',\n",
       " 'County',\n",
       " 'The',\n",
       " 'highway',\n",
       " 'was',\n",
       " 'first',\n",
       " 'shown',\n",
       " 'without',\n",
       " 'a',\n",
       " 'number',\n",
       " 'label',\n",
       " 'on',\n",
       " 'maps',\n",
       " 'in',\n",
       " 'and',\n",
       " 'labeled',\n",
       " 'after',\n",
       " 'an',\n",
       " 'extension',\n",
       " 'the',\n",
       " 'next',\n",
       " 'year',\n",
       " 'The',\n",
       " 'highway',\n",
       " 's',\n",
       " 'current',\n",
       " 'routing',\n",
       " 'was',\n",
       " 'established',\n",
       " 'in',\n",
       " 'the',\n",
       " 's',\n",
       " 'Jurisdiction',\n",
       " 'of',\n",
       " 'the',\n",
       " 'roadway',\n",
       " 'was',\n",
       " 'transferred',\n",
       " 'from',\n",
       " 'the',\n",
       " 'Michigan',\n",
       " 'Department',\n",
       " 'of',\n",
       " 'Transportation',\n",
       " 'MDOT',\n",
       " 'to',\n",
       " 'the',\n",
       " 'Grand',\n",
       " 'Traverse',\n",
       " 'County',\n",
       " 'Road',\n",
       " 'Commission',\n",
       " 'in',\n",
       " 'June',\n",
       " 'and',\n",
       " 'the',\n",
       " 'highway',\n",
       " 'designation',\n",
       " 'was',\n",
       " 'decommissioned',\n",
       " 'in',\n",
       " 'the',\n",
       " 'process',\n",
       " 'signage',\n",
       " 'was',\n",
       " 'removed',\n",
       " 'by',\n",
       " 'August',\n",
       " 'to',\n",
       " 'reflect',\n",
       " 'the',\n",
       " 'changeover',\n",
       " 'Route',\n",
       " 'description',\n",
       " 'M',\n",
       " 'began',\n",
       " 'at',\n",
       " 'the',\n",
       " 'southern',\n",
       " 'end',\n",
       " 'of',\n",
       " 'Interlochen',\n",
       " 'State',\n",
       " 'Park',\n",
       " 'at',\n",
       " 'an',\n",
       " 'intersection',\n",
       " 'with',\n",
       " 'Vagabond',\n",
       " 'Lane',\n",
       " 'Farther',\n",
       " 'south',\n",
       " 'the',\n",
       " 'roadway',\n",
       " 'continues',\n",
       " 'toward',\n",
       " 'Green',\n",
       " 'Lake',\n",
       " 'Airport',\n",
       " 'as',\n",
       " 'County',\n",
       " 'Road',\n",
       " 'CR',\n",
       " 'also',\n",
       " 'known',\n",
       " 'as',\n",
       " 'Karlin',\n",
       " 'Road',\n",
       " 'The',\n",
       " 'state',\n",
       " 'highway',\n",
       " 'was',\n",
       " 'a',\n",
       " 'two',\n",
       " 'lane',\n",
       " 'road',\n",
       " 'that',\n",
       " 'meandered',\n",
       " 'north',\n",
       " 'passing',\n",
       " 'the',\n",
       " 'entrance',\n",
       " 'to',\n",
       " 'the',\n",
       " 'state',\n",
       " 'park',\n",
       " 'and',\n",
       " 'near',\n",
       " 'the',\n",
       " 'Interlochen',\n",
       " 'Center',\n",
       " 'for',\n",
       " 'the',\n",
       " 'Arts',\n",
       " 'The',\n",
       " 'road',\n",
       " 'continued',\n",
       " 'along',\n",
       " 'the',\n",
       " 'isthmus',\n",
       " 'between',\n",
       " 'Green',\n",
       " 'and',\n",
       " 'Duck',\n",
       " 'lakes',\n",
       " 'North',\n",
       " 'of',\n",
       " 'the',\n",
       " 'school',\n",
       " 'the',\n",
       " 'highway',\n",
       " 'passed',\n",
       " 'through',\n",
       " 'a',\n",
       " 'wooded',\n",
       " 'section',\n",
       " 'before',\n",
       " 'entering',\n",
       " 'the',\n",
       " 'community',\n",
       " 'of',\n",
       " 'Interlochen',\n",
       " 'itself',\n",
       " 'near',\n",
       " 'the',\n",
       " 'Green',\n",
       " 'Lake',\n",
       " 'Township',\n",
       " 'Hall',\n",
       " 'There',\n",
       " 'M',\n",
       " 'ran',\n",
       " 'almost',\n",
       " 'due',\n",
       " 'north',\n",
       " 'before',\n",
       " 'terminating',\n",
       " 'at',\n",
       " 'its',\n",
       " 'connection',\n",
       " 'with',\n",
       " 'the',\n",
       " 'rest',\n",
       " 'of',\n",
       " 'the',\n",
       " 'state',\n",
       " 'trunkline',\n",
       " 'system',\n",
       " 'at',\n",
       " 'US',\n",
       " 'at',\n",
       " 'Interlochen',\n",
       " 'Corners',\n",
       " 'The',\n",
       " 'roadway',\n",
       " 'continues',\n",
       " 'north',\n",
       " 'of',\n",
       " 'US',\n",
       " 'as',\n",
       " 'South',\n",
       " 'Long',\n",
       " 'Lake',\n",
       " 'Road',\n",
       " 'after',\n",
       " 'the',\n",
       " 'M',\n",
       " 'designation',\n",
       " 'ended',\n",
       " 'M',\n",
       " 'was',\n",
       " 'maintained',\n",
       " 'by',\n",
       " 'MDOT',\n",
       " 'like',\n",
       " 'other',\n",
       " 'state',\n",
       " 'highways',\n",
       " 'in',\n",
       " 'Michigan',\n",
       " 'According',\n",
       " 'to',\n",
       " 'the',\n",
       " 'department',\n",
       " 'in',\n",
       " 'vehicles',\n",
       " 'used',\n",
       " 'the',\n",
       " 'highway',\n",
       " 'daily',\n",
       " 'on',\n",
       " 'average',\n",
       " 'No',\n",
       " 'section',\n",
       " 'of',\n",
       " 'M',\n",
       " 'had',\n",
       " 'been',\n",
       " 'listed',\n",
       " 'on',\n",
       " 'the',\n",
       " 'National',\n",
       " 'Highway',\n",
       " 'System',\n",
       " 'a',\n",
       " 'network',\n",
       " 'of',\n",
       " 'roads',\n",
       " 'important',\n",
       " 'to',\n",
       " 'the',\n",
       " 'country',\n",
       " 's',\n",
       " 'economy',\n",
       " 'defense',\n",
       " 'and',\n",
       " 'mobility',\n",
       " 'History',\n",
       " 'reassurance',\n",
       " 'marker',\n",
       " 'near',\n",
       " 'Diamond',\n",
       " 'Park',\n",
       " 'Road',\n",
       " 'and',\n",
       " 'the',\n",
       " 'entrance',\n",
       " 'to',\n",
       " 'Interlochen',\n",
       " 'Center',\n",
       " 'for',\n",
       " 'the',\n",
       " 'Arts',\n",
       " 'May',\n",
       " 'A',\n",
       " 'highway',\n",
       " 'along',\n",
       " 'the',\n",
       " 'route',\n",
       " 'of',\n",
       " 'M',\n",
       " 'connecting',\n",
       " 'US',\n",
       " 'south',\n",
       " 'to',\n",
       " 'the',\n",
       " 'state',\n",
       " 'park',\n",
       " 'was',\n",
       " 'added',\n",
       " 'to',\n",
       " 'the',\n",
       " 'state',\n",
       " 'highway',\n",
       " 'system',\n",
       " 'during',\n",
       " 'the',\n",
       " 'first',\n",
       " 'half',\n",
       " 'of',\n",
       " 'initially',\n",
       " 'lacking',\n",
       " 'a',\n",
       " 'designation',\n",
       " 'label',\n",
       " 'on',\n",
       " 'the',\n",
       " 'state',\n",
       " 'maps',\n",
       " 'of',\n",
       " 'the',\n",
       " 'time',\n",
       " 'This',\n",
       " 'routing',\n",
       " 'was',\n",
       " 'extended',\n",
       " 'by',\n",
       " 'and',\n",
       " 'labelled',\n",
       " 'as',\n",
       " 'M',\n",
       " 'on',\n",
       " 'maps',\n",
       " 'in',\n",
       " 'The',\n",
       " 'former',\n",
       " 'route',\n",
       " 'through',\n",
       " 'the',\n",
       " 'campus',\n",
       " 'of',\n",
       " 'the',\n",
       " 'Interlochen',\n",
       " 'Center',\n",
       " 'for',\n",
       " 'the',\n",
       " 'Arts',\n",
       " 'was',\n",
       " 'abandoned',\n",
       " 'as',\n",
       " 'a',\n",
       " 'roadway',\n",
       " 'on',\n",
       " 'March',\n",
       " 'after',\n",
       " 'M',\n",
       " 'was',\n",
       " 'realigned',\n",
       " 'to',\n",
       " 'pass',\n",
       " 'to',\n",
       " 'the',\n",
       " 'east',\n",
       " 'of',\n",
       " 'the',\n",
       " 'school',\n",
       " 'and',\n",
       " 'extended',\n",
       " 'further',\n",
       " 'south',\n",
       " 'through',\n",
       " 'the',\n",
       " 'state',\n",
       " 'park',\n",
       " 'area',\n",
       " 'On',\n",
       " 'April',\n",
       " 'the',\n",
       " 'GRCTC',\n",
       " 'was',\n",
       " 'to',\n",
       " 'vote',\n",
       " 'on',\n",
       " 'a',\n",
       " 'resolution',\n",
       " 'to',\n",
       " 'accept',\n",
       " 'jurisdiction',\n",
       " 'over',\n",
       " 'M',\n",
       " 'from',\n",
       " 'MDOT',\n",
       " 'effective',\n",
       " 'June',\n",
       " 'the',\n",
       " 'board',\n",
       " 'approved',\n",
       " 'the',\n",
       " 'resolution',\n",
       " 'MDOT',\n",
       " 'announced',\n",
       " 'on',\n",
       " 'August',\n",
       " 'that',\n",
       " 'jurisdiction',\n",
       " 'had',\n",
       " 'been',\n",
       " 'transferred',\n",
       " 'at',\n",
       " 'the',\n",
       " 'beginning',\n",
       " 'of',\n",
       " 'June',\n",
       " 'and',\n",
       " 'that',\n",
       " 'all',\n",
       " 'M',\n",
       " 'signage',\n",
       " 'had',\n",
       " 'since',\n",
       " 'been',\n",
       " 'removed',\n",
       " 'Major',\n",
       " 'intersections',\n",
       " 'See',\n",
       " 'also',\n",
       " 'References',\n",
       " 'External',\n",
       " 'links',\n",
       " 'Former',\n",
       " 'M',\n",
       " 'at',\n",
       " 'Michigan',\n",
       " 'Highways',\n",
       " 'Category',\n",
       " 'Transportation',\n",
       " 'in',\n",
       " 'Grand',\n",
       " 'Traverse',\n",
       " 'County',\n",
       " 'Michigan']"
      ]
     },
     "execution_count": 7,
     "metadata": {},
     "output_type": "execute_result"
    }
   ],
   "source": [
    "data[0]['text']"
   ]
  },
  {
   "cell_type": "code",
   "execution_count": 8,
   "metadata": {},
   "outputs": [
    {
     "data": {
      "text/plain": [
       "220641"
      ]
     },
     "execution_count": 8,
     "metadata": {},
     "output_type": "execute_result"
    }
   ],
   "source": [
    "len(all_words)"
   ]
  },
  {
   "cell_type": "code",
   "execution_count": 9,
   "metadata": {},
   "outputs": [],
   "source": [
    "# filter out where there is length 0f 0\n",
    "data = [x for x in data if len(x['text']) > 0]"
   ]
  },
  {
   "cell_type": "code",
   "execution_count": 10,
   "metadata": {},
   "outputs": [
    {
     "data": {
      "image/png": "[encoded data removed]",
      "text/plain": [
       "<Figure size 640x480 with 1 Axes>"
      ]
     },
     "metadata": {},
     "output_type": "display_data"
    }
   ],
   "source": [
    "y = [len(x['text']) for x in data]\n",
    "# hist of y\n",
    "plt.hist(y, bins=100)\n",
    "plt.show()"
   ]
  },
  {
   "cell_type": "code",
   "execution_count": 11,
   "metadata": {},
   "outputs": [
    {
     "name": "stdout",
     "output_type": "stream",
     "text": [
      "first ten works ['M', 'was', 'a', 'state', 'trunkline', 'highway', 'in', 'the', 'US', 'state', 'of', 'Michigan', 'that', 'served', 'as', 'a', 'spur', 'route', 'to', 'the']\n",
      "first ten tokens [181569, 81639, 98890, 189981, 212569, 170840, 72624, 135538, 15430, 189981, 114917, 12119, 39032, 66797, 149604, 98890, 211670, 50239, 174759, 135538]\n",
      "first ten detokens ['M', 'was', 'a', 'state', 'trunkline', 'highway', 'in', 'the', 'US', 'state', 'of', 'Michigan', 'that', 'served', 'as', 'a', 'spur', 'route', 'to', 'the']\n"
     ]
    }
   ],
   "source": [
    "str_to_token = {word: i for i, word in enumerate(all_words)}\n",
    "token_to_str = {i: word for i, word in enumerate(all_words)}\n",
    "tokenizer = lambda x: [str_to_token[word] for word in x]\n",
    "detokenizer = lambda x: [token_to_str[word] for word in x]\n",
    "\n",
    "first_few = data[0]['text'][:20]\n",
    "print(f\"first ten works {first_few}\")\n",
    "print(f\"first ten tokens {tokenizer(first_few)}\")\n",
    "print(f\"first ten detokens {detokenizer(tokenizer(first_few))}\")\n"
   ]
  },
  {
   "cell_type": "code",
   "execution_count": 12,
   "metadata": {},
   "outputs": [],
   "source": [
    "CONTEXT_WINDOW = 40"
   ]
  },
  {
   "cell_type": "code",
   "execution_count": 13,
   "metadata": {},
   "outputs": [],
   "source": [
    "# take chunks of exactly CONTEXT_WINDOW words and chuck everything else and flatten to a single list of these\n",
    "examples = [tokenizer(x['text'][i:i+CONTEXT_WINDOW]) for x in data for i in range(0, len(x['text']), CONTEXT_WINDOW) if i+CONTEXT_WINDOW < len(x['text'])]"
   ]
  },
  {
   "cell_type": "code",
   "execution_count": 14,
   "metadata": {},
   "outputs": [
    {
     "data": {
      "text/plain": [
       "[181569,\n",
       " 81639,\n",
       " 98890,\n",
       " 189981,\n",
       " 212569,\n",
       " 170840,\n",
       " 72624,\n",
       " 135538,\n",
       " 15430,\n",
       " 189981,\n",
       " 114917,\n",
       " 12119,\n",
       " 39032,\n",
       " 66797,\n",
       " 149604,\n",
       " 98890,\n",
       " 211670,\n",
       " 50239,\n",
       " 174759,\n",
       " 135538,\n",
       " 117385,\n",
       " 75520,\n",
       " 71293,\n",
       " 135538,\n",
       " 13616,\n",
       " 15489,\n",
       " 117385,\n",
       " 33749,\n",
       " 53403,\n",
       " 21785,\n",
       " 144493,\n",
       " 178513,\n",
       " 114917,\n",
       " 135538,\n",
       " 188682,\n",
       " 15489,\n",
       " 108446,\n",
       " 57652,\n",
       " 189542,\n",
       " 127685]"
      ]
     },
     "execution_count": 14,
     "metadata": {},
     "output_type": "execute_result"
    }
   ],
   "source": [
    "examples[0]"
   ]
  },
  {
   "cell_type": "code",
   "execution_count": 15,
   "metadata": {},
   "outputs": [
    {
     "data": {
      "text/plain": [
       "torch.Size([141712, 40])"
      ]
     },
     "execution_count": 15,
     "metadata": {},
     "output_type": "execute_result"
    }
   ],
   "source": [
    "torch.tensor(examples).shape"
   ]
  },
  {
   "cell_type": "code",
   "execution_count": 16,
   "metadata": {},
   "outputs": [],
   "source": [
    "class CustomDataset(torch.utils.data.Dataset):\n",
    "    def __init__(self, data):\n",
    "        self.data = torch.tensor(data, dtype=torch.long, device=device)\n",
    "\n",
    "    def __len__(self):\n",
    "        return len(self.data) * CONTEXT_WINDOW\n",
    "\n",
    "    def __getitem__(self, index):\n",
    "        example_idx = index // CONTEXT_WINDOW\n",
    "        inside_example_idx = index % CONTEXT_WINDOW\n",
    "        x = torch.zeros(CONTEXT_WINDOW, dtype=torch.long, device=device)\n",
    "        x[:inside_example_idx] = self.data[example_idx][:inside_example_idx]\n",
    "        y = self.data[example_idx][inside_example_idx]\n",
    "        return x, y"
   ]
  },
  {
   "cell_type": "code",
   "execution_count": 17,
   "metadata": {},
   "outputs": [
    {
     "data": {
      "text/plain": [
       "(113369, 28343)"
      ]
     },
     "execution_count": 17,
     "metadata": {},
     "output_type": "execute_result"
    }
   ],
   "source": [
    "split = int(0.8 * len(examples))\n",
    "# shuffle order first\n",
    "# examples = sklearn.utils.shuffle(examples)\n",
    "train_rows = examples[:split]\n",
    "test_rows = examples[split:]\n",
    "len(train_rows), len(test_rows)"
   ]
  },
  {
   "cell_type": "code",
   "execution_count": 18,
   "metadata": {},
   "outputs": [
    {
     "data": {
      "text/plain": [
       "(4534760, 1133720)"
      ]
     },
     "execution_count": 18,
     "metadata": {},
     "output_type": "execute_result"
    }
   ],
   "source": [
    "train_data = CustomDataset(train_rows)\n",
    "test_data = CustomDataset(test_rows)\n",
    "\n",
    "len(train_data), len(test_data)"
   ]
  },
  {
   "cell_type": "code",
   "execution_count": 36,
   "metadata": {},
   "outputs": [
    {
     "data": {
      "text/plain": [
       "(tensor([135538, 167818, 108687, 174206, 164572, 104070,  46747, 128245,  32617,\n",
       "          97354, 220571, 211668, 172170, 133712, 167818, 149604,  92699,  51240,\n",
       "          15489, 220606, 212501, 123561, 161878, 128245,  97354,  30469, 205749,\n",
       "          39263,  53700, 199669,  91734,  33894, 190576, 114917,      0,      0,\n",
       "              0,      0,      0,      0]),\n",
       " tensor(135538))"
      ]
     },
     "execution_count": 36,
     "metadata": {},
     "output_type": "execute_result"
    }
   ],
   "source": [
    "# sample a random train data point\n",
    "i = np.random.randint(len(train_data))\n",
    "x, y = train_data[i]\n",
    "x, y"
   ]
  },
  {
   "cell_type": "code",
   "execution_count": 20,
   "metadata": {},
   "outputs": [
    {
     "data": {
      "text/plain": [
       "(torch.Size([3, 40]), torch.Size([3]))"
      ]
     },
     "execution_count": 20,
     "metadata": {},
     "output_type": "execute_result"
    }
   ],
   "source": [
    "from torch.utils.data import DataLoader\n",
    "\n",
    "train_dataloader = DataLoader(train_data, batch_size=3, shuffle=True)\n",
    "test_dataloader = DataLoader(test_data, batch_size=3, shuffle=False)\n",
    "\n",
    "train_features_batch, train_labels_batch = next(iter(train_dataloader))\n",
    "train_features_batch.shape, train_labels_batch.shape"
   ]
  },
  {
   "cell_type": "code",
   "execution_count": 21,
   "metadata": {},
   "outputs": [
    {
     "data": {
      "text/plain": [
       "torch.Size([3, 40, 100])"
      ]
     },
     "execution_count": 21,
     "metadata": {},
     "output_type": "execute_result"
    }
   ],
   "source": [
    "x = torch.ones((3,40), dtype=torch.long, device=device)\n",
    "embedding = nn.Embedding(len(all_words), 100)\n",
    "embedding(x).shape"
   ]
  },
  {
   "cell_type": "code",
   "execution_count": 22,
   "metadata": {},
   "outputs": [],
   "source": [
    "class CustomModel(nn.Module):\n",
    "    def __init__(\n",
    "        self, input_shape: int, embedding_dim: int, hidden_units: int, output_shape: int\n",
    "    ) -> None:\n",
    "        super().__init__()\n",
    "        self.embedding = nn.Embedding(\n",
    "            num_embeddings=input_shape, embedding_dim=embedding_dim\n",
    "        )\n",
    "        self.layer_stack = nn.Sequential(\n",
    "            nn.Linear(in_features=embedding_dim, out_features=hidden_units),\n",
    "            nn.ReLU(),\n",
    "            nn.Linear(in_features=hidden_units, out_features=hidden_units),\n",
    "            nn.ReLU(),\n",
    "        )\n",
    "        # concat all of them at this point then final linear to categories\n",
    "        self.final_layer = nn.Linear(in_features=hidden_units*CONTEXT_WINDOW, out_features=output_shape)\n",
    "\n",
    "    def forward(self, x):\n",
    "        x = self.embedding(x)\n",
    "        x = self.layer_stack(x)\n",
    "        x = x.view(x.shape[0], -1)\n",
    "        x = self.final_layer(x)\n",
    "        return x"
   ]
  },
  {
   "cell_type": "code",
   "execution_count": 23,
   "metadata": {},
   "outputs": [],
   "source": [
    "model_0 = CustomModel(\n",
    "    input_shape=len(all_words),\n",
    "    embedding_dim=100,\n",
    "    hidden_units=100,\n",
    "    output_shape=len(all_words),\n",
    ").to(device)"
   ]
  },
  {
   "cell_type": "code",
   "execution_count": 24,
   "metadata": {},
   "outputs": [],
   "source": [
    "from torch.utils.tensorboard import SummaryWriter\n",
    "\n",
    "writer = SummaryWriter(\"../runs/transformer\")"
   ]
  },
  {
   "cell_type": "code",
   "execution_count": 44,
   "metadata": {},
   "outputs": [
    {
     "name": "stdout",
     "output_type": "stream",
     "text": [
      "torch.Size([3, 40]) torch.Size([3, 220641]) torch.Size([3])\n",
      "tensor([[ 0.0667, -0.0909, -0.2069,  0.0271, -0.1068,  0.1513,  0.1213,  0.0205,\n",
      "         -0.1400,  0.0833],\n",
      "        [ 0.0774, -0.0883, -0.2280,  0.0302, -0.0853,  0.1230,  0.1268,  0.0146,\n",
      "         -0.1510,  0.0799],\n",
      "        [ 0.0779, -0.0830, -0.2167,  0.0357, -0.1006,  0.1288,  0.1291,  0.0225,\n",
      "         -0.1413,  0.0775]])\n"
     ]
    }
   ],
   "source": [
    "# make example prediction\n",
    "\n",
    "model_0.eval()\n",
    "with torch.inference_mode():\n",
    "    for X, y in test_dataloader:\n",
    "        y_preds = model_0(X)\n",
    "        print(X.shape, y_preds.shape, y.shape)\n",
    "        print(y_preds[:, :10])\n",
    "        break"
   ]
  },
  {
   "cell_type": "code",
   "execution_count": 25,
   "metadata": {},
   "outputs": [],
   "source": [
    "def train_step(\n",
    "    model: nn.Module,\n",
    "    dataloader: torch.utils.data.DataLoader,\n",
    "    loss_fn: nn.Module,\n",
    "    optimizer: torch.optim.Optimizer,\n",
    "    accuracy_fn,\n",
    "):\n",
    "    train_loss, train_acc = 0, 0\n",
    "    for X, y in tqdm(dataloader):\n",
    "        model.train()\n",
    "        y_logits = model(X)\n",
    "        y_preds = torch.argmax(torch.softmax(y_logits, dim=1), dim=1)\n",
    "        loss = loss_fn(y_logits, y)\n",
    "        acc = accuracy_fn(y_true=y, y_pred=y_preds)\n",
    "\n",
    "        train_loss += loss.item()\n",
    "        train_acc += acc\n",
    "\n",
    "        optimizer.zero_grad()\n",
    "        loss.backward()\n",
    "        optimizer.step()\n",
    "\n",
    "    train_loss /= len(dataloader)\n",
    "    train_acc /= len(dataloader)\n",
    "\n",
    "    return train_loss, train_acc"
   ]
  },
  {
   "cell_type": "code",
   "execution_count": 26,
   "metadata": {},
   "outputs": [],
   "source": [
    "def test_step(\n",
    "    model: nn.Module,\n",
    "    dataloader: torch.utils.data.DataLoader,\n",
    "    loss_fn: nn.Module,\n",
    "    accuracy_fn,\n",
    "):\n",
    "    test_loss, test_acc = 0, 0\n",
    "    model.eval()\n",
    "    with torch.inference_mode():\n",
    "        for X, y in tqdm(dataloader):\n",
    "            y_logits = model(X)\n",
    "            y_preds = torch.argmax(torch.softmax(y_logits, dim=1), dim=1)\n",
    "            loss = loss_fn(y_logits, y)\n",
    "            acc = accuracy_fn(y_true=y, y_pred=y_preds)\n",
    "\n",
    "            test_loss += loss.item()\n",
    "            test_acc += acc\n",
    "\n",
    "    test_loss /= len(dataloader)\n",
    "    test_acc /= len(dataloader)\n",
    "\n",
    "    return test_loss, test_acc"
   ]
  },
  {
   "cell_type": "code",
   "execution_count": 27,
   "metadata": {},
   "outputs": [],
   "source": [
    "from sklearn.metrics import accuracy_score\n",
    "from tqdm.auto import tqdm\n",
    "\n",
    "\n",
    "def train_model(\n",
    "    model: nn.Module,\n",
    "    train_dataloader: torch.utils.data.DataLoader,\n",
    "    test_dataloader: torch.utils.data.DataLoader,\n",
    "    loss_fn: nn.Module,\n",
    "    optimizer: torch.optim.Optimizer,\n",
    "    accuracy_score: callable,\n",
    "    epochs: int = 3,\n",
    ") -> dict[str, list[float]]:\n",
    "\n",
    "    results = {\n",
    "        \"train_loss\": [],\n",
    "        \"train_acc\": [],\n",
    "        \"test_loss\": [],\n",
    "        \"test_acc\": [],\n",
    "    }\n",
    "    for epoch in tqdm(range(epochs)):\n",
    "\n",
    "        train_loss, train_acc = train_step(\n",
    "            model=model,\n",
    "            dataloader=train_dataloader,\n",
    "            loss_fn=loss_fn,\n",
    "            optimizer=optimizer,\n",
    "            accuracy_fn=accuracy_score,\n",
    "        )\n",
    "\n",
    "        test_loss, test_acc = test_step(\n",
    "            model=model,\n",
    "            dataloader=test_dataloader,\n",
    "            loss_fn=loss_fn,\n",
    "            accuracy_fn=accuracy_score,\n",
    "        )\n",
    "\n",
    "        results[\"train_loss\"].append(train_loss)\n",
    "        results[\"train_acc\"].append(train_acc)\n",
    "        results[\"test_loss\"].append(test_loss)\n",
    "        results[\"test_acc\"].append(test_acc)\n",
    "\n",
    "    return results"
   ]
  },
  {
   "cell_type": "code",
   "execution_count": 28,
   "metadata": {},
   "outputs": [
    {
     "name": "stderr",
     "output_type": "stream",
     "text": [
      "  0%|          | 0/1 [00:00<?, ?it/s]"
     ]
    },
    {
     "ename": "",
     "evalue": "",
     "output_type": "error",
     "traceback": [
      "\u001b[1;31mThe Kernel crashed while executing code in the current cell or a previous cell. \n",
      "\u001b[1;31mPlease review the code in the cell(s) to identify a possible cause of the failure. \n",
      "\u001b[1;31mClick <a href='https://aka.ms/vscodeJupyterKernelCrash'>here</a> for more info. \n",
      "\u001b[1;31mView Jupyter <a href='command:jupyter.viewOutput'>log</a> for further details."
     ]
    }
   ],
   "source": [
    "loss_fn = nn.CrossEntropyLoss()\n",
    "optimizer = torch.optim.Adam(params=model_0.parameters(), lr=0.1)\n",
    "\n",
    "model_0_train_results = train_model(\n",
    "    model=model_0,\n",
    "    train_dataloader=train_dataloader,\n",
    "    test_dataloader=test_dataloader,\n",
    "    loss_fn=loss_fn,\n",
    "    optimizer=optimizer,\n",
    "    accuracy_score=accuracy_score,\n",
    "    epochs=1,\n",
    ")"
   ]
  },
  {
   "cell_type": "code",
   "execution_count": null,
   "metadata": {},
   "outputs": [],
   "source": [
    "writer = SummaryWriter(\"../runs/model_0\")\n",
    "\n",
    "for epoch in range(len(model_0_train_results[\"train_loss\"])):\n",
    "    writer.add_scalars(\n",
    "        \"loss\",\n",
    "        {\n",
    "            \"train_loss\": model_0_train_results[\"train_loss\"][epoch],\n",
    "            \"test_loss\": model_0_train_results[\"test_loss\"][epoch],\n",
    "        },\n",
    "        epoch,\n",
    "    )\n",
    "    writer.add_scalars(\n",
    "        \"accuracy\",\n",
    "        {\n",
    "            \"train_acc\": model_0_train_results[\"train_acc\"][epoch],\n",
    "            \"test_acc\": model_0_train_results[\"test_acc\"][epoch],\n",
    "        },\n",
    "        epoch,\n",
    "    )\n",
    "\n",
    "writer.close()"
   ]
  },
  {
   "cell_type": "code",
   "execution_count": null,
   "metadata": {},
   "outputs": [],
   "source": [
    "plt.figure(figsize=(12, 6))\n",
    "\n",
    "# Plotting loss and accuracy\n",
    "for i, metric in enumerate([\"loss\", \"acc\"]):\n",
    "    plt.subplot(1, 2, i + 1)\n",
    "    for key in model_0_train_results:\n",
    "        if metric in key:\n",
    "            plt.plot(\n",
    "                range(len(model_0_train_results[key])),\n",
    "                model_0_train_results[key],\n",
    "                label=key,\n",
    "            )\n",
    "    plt.xlabel(\"Epoch\")\n",
    "    plt.ylabel(metric.capitalize())\n",
    "    plt.title(f\"Train {metric.capitalize()}\")\n",
    "    plt.legend()\n",
    "\n",
    "plt.tight_layout()\n",
    "plt.show()"
   ]
  }
 ],
 "metadata": {
  "kernelspec": {
   "display_name": ".venv",
   "language": "python",
   "name": "python3"
  },
  "language_info": {
   "codemirror_mode": {
    "name": "ipython",
    "version": 3
   },
   "file_extension": ".py",
   "mimetype": "text/x-python",
   "name": "python",
   "nbconvert_exporter": "python",
   "pygments_lexer": "ipython3",
   "version": "3.10.12"
  }
 },
 "nbformat": 4,
 "nbformat_minor": 2
}
